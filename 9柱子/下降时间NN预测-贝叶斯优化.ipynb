{
 "cells": [
  {
   "cell_type": "markdown",
   "id": "31db90c9",
   "metadata": {},
   "source": [
    "## 需要安装贝叶斯模型：bayes_opt\n",
    "#### 打开Anaconda Navigator--Enviroments--ml37--Open Terminal  \n",
    "#### 在命令行模式下输入： pip install bayesian-optimization"
   ]
  },
  {
   "cell_type": "code",
   "execution_count": 1,
   "id": "7deeee0d",
   "metadata": {
    "scrolled": true
   },
   "outputs": [
    {
     "name": "stdout",
     "output_type": "stream",
     "text": [
      "Test Bayesian Optimization OK\n"
     ]
    }
   ],
   "source": [
    "from bayes_opt import BayesianOptimization\n",
    "print(\"Test Bayesian Optimization OK\")"
   ]
  },
  {
   "cell_type": "code",
   "execution_count": 2,
   "id": "eceea66f",
   "metadata": {
    "scrolled": false
   },
   "outputs": [
    {
     "name": "stdout",
     "output_type": "stream",
     "text": [
      "统计速降曲线的柱子高度范围为：\n",
      "[[1, 999], [1, 999], [1, 999], [1, 999], [1, 999], [1, 999], [1, 999], [1, 999], [1, 999]]\n",
      "=========================================\n",
      "以下执行贝叶斯优化：\n",
      "|   iter    |  target   |   pole1   |   pole2   |   pole3   |   pole4   |   pole5   |   pole6   |   pole7   |   pole8   |   pole9   |\n",
      "-------------------------------------------------------------------------------------------------------------------------------------\n"
     ]
    },
    {
     "ename": "Exception",
     "evalue": "\nPassing acquisition function parameters or gaussian process parameters to maximize\nis no longer supported. Instead,please use the \"set_gp_params\" method to set\n the gp params, and pass an instance of bayes_opt.util.UtilityFunction\n using the acquisition_function argument\n",
     "output_type": "error",
     "traceback": [
      "\u001b[1;31m---------------------------------------------------------------------------\u001b[0m",
      "\u001b[1;31mException\u001b[0m                                 Traceback (most recent call last)",
      "\u001b[1;32m~\\AppData\\Local\\Temp\\ipykernel_27516\\4144362799.py\u001b[0m in \u001b[0;36m<module>\u001b[1;34m\u001b[0m\n\u001b[0;32m     70\u001b[0m \u001b[0mprint\u001b[0m\u001b[1;33m(\u001b[0m\u001b[1;34m\"=========================================\"\u001b[0m\u001b[1;33m)\u001b[0m\u001b[1;33m\u001b[0m\u001b[1;33m\u001b[0m\u001b[0m\n\u001b[0;32m     71\u001b[0m \u001b[0mprint\u001b[0m\u001b[1;33m(\u001b[0m\u001b[1;34m\"以下执行贝叶斯优化：\"\u001b[0m\u001b[1;33m)\u001b[0m\u001b[1;33m\u001b[0m\u001b[1;33m\u001b[0m\u001b[0m\n\u001b[1;32m---> 72\u001b[1;33m \u001b[0mBO1\u001b[0m\u001b[1;33m.\u001b[0m\u001b[0mmaximize\u001b[0m\u001b[1;33m(\u001b[0m\u001b[1;36m40\u001b[0m\u001b[1;33m,\u001b[0m \u001b[1;36m500\u001b[0m\u001b[1;33m,\u001b[0m \u001b[0macq\u001b[0m\u001b[1;33m=\u001b[0m\u001b[1;34m'ucb'\u001b[0m\u001b[1;33m,\u001b[0m \u001b[0mkappa\u001b[0m\u001b[1;33m=\u001b[0m\u001b[1;36m0.3\u001b[0m\u001b[1;33m)\u001b[0m \u001b[1;31m#调用maximize函数寻找最优参数\u001b[0m\u001b[1;33m\u001b[0m\u001b[1;33m\u001b[0m\u001b[0m\n\u001b[0m\u001b[0;32m     73\u001b[0m \u001b[1;31m#init_points=40：随机产生初始化点的个数为40个，值越大，找到起步点的效果可能更好\u001b[0m\u001b[1;33m\u001b[0m\u001b[1;33m\u001b[0m\u001b[1;33m\u001b[0m\u001b[0m\n\u001b[0;32m     74\u001b[0m \u001b[1;31m#n_iter=1200：进行贝叶斯优化的迭代次数，值越大，精度越高\u001b[0m\u001b[1;33m\u001b[0m\u001b[1;33m\u001b[0m\u001b[1;33m\u001b[0m\u001b[0m\n",
      "\u001b[1;32mC:\\ProgramData\\Anaconda3\\envs\\ml37\\lib\\site-packages\\bayes_opt\\bayesian_optimization.py\u001b[0m in \u001b[0;36mmaximize\u001b[1;34m(self, init_points, n_iter, acquisition_function, acq, kappa, kappa_decay, kappa_decay_delay, xi, **gp_params)\u001b[0m\n\u001b[0;32m    286\u001b[0m         \u001b[0mold_params_used\u001b[0m \u001b[1;33m=\u001b[0m \u001b[0many\u001b[0m\u001b[1;33m(\u001b[0m\u001b[1;33m[\u001b[0m\u001b[0mparam\u001b[0m \u001b[1;32mis\u001b[0m \u001b[1;32mnot\u001b[0m \u001b[1;32mNone\u001b[0m \u001b[1;32mfor\u001b[0m \u001b[0mparam\u001b[0m \u001b[1;32min\u001b[0m \u001b[1;33m[\u001b[0m\u001b[0macq\u001b[0m\u001b[1;33m,\u001b[0m \u001b[0mkappa\u001b[0m\u001b[1;33m,\u001b[0m \u001b[0mkappa_decay\u001b[0m\u001b[1;33m,\u001b[0m \u001b[0mkappa_decay_delay\u001b[0m\u001b[1;33m,\u001b[0m \u001b[0mxi\u001b[0m\u001b[1;33m]\u001b[0m\u001b[1;33m]\u001b[0m\u001b[1;33m)\u001b[0m\u001b[1;33m\u001b[0m\u001b[1;33m\u001b[0m\u001b[0m\n\u001b[0;32m    287\u001b[0m         \u001b[1;32mif\u001b[0m \u001b[0mold_params_used\u001b[0m \u001b[1;32mor\u001b[0m \u001b[0mgp_params\u001b[0m\u001b[1;33m:\u001b[0m\u001b[1;33m\u001b[0m\u001b[1;33m\u001b[0m\u001b[0m\n\u001b[1;32m--> 288\u001b[1;33m             raise Exception('\\nPassing acquisition function parameters or gaussian process parameters to maximize'\n\u001b[0m\u001b[0;32m    289\u001b[0m                                      \u001b[1;34m'\\nis no longer supported. Instead,please use the \"set_gp_params\" method to set'\u001b[0m\u001b[1;33m\u001b[0m\u001b[1;33m\u001b[0m\u001b[0m\n\u001b[0;32m    290\u001b[0m                                      \u001b[1;34m'\\n the gp params, and pass an instance of bayes_opt.util.UtilityFunction'\u001b[0m\u001b[1;33m\u001b[0m\u001b[1;33m\u001b[0m\u001b[0m\n",
      "\u001b[1;31mException\u001b[0m: \nPassing acquisition function parameters or gaussian process parameters to maximize\nis no longer supported. Instead,please use the \"set_gp_params\" method to set\n the gp params, and pass an instance of bayes_opt.util.UtilityFunction\n using the acquisition_function argument\n"
     ]
    }
   ],
   "source": [
    "#以下测试贝叶斯优化，求出最速降曲线\n",
    "import tensorflow as tf\n",
    "import numpy as np\n",
    "from bayes_opt import BayesianOptimization\n",
    "from scipy.interpolate import make_interp_spline\n",
    "import matplotlib.pyplot as plt\n",
    "import math\n",
    "import os\n",
    "#from sklearn.preprocessing import StandardScaler #在本工作中9根柱子的参数范围接近，不需要数据标准化\n",
    "from keras.models import load_model\n",
    "\n",
    "#调用之前NN训练好的模型，根据9根柱子高度，即时预测下降时间\n",
    "my_model = load_model('time.h5')\n",
    "\n",
    "CurveNum=10 #从前期数据中，找出50条下降最快的曲线\n",
    "PoleNum=9  #使用多少根柱子来确定曲线形状\n",
    "LowPole=[[0 for i in range(PoleNum)] for i in range(CurveNum)] #存储多根下降时间最短的曲线所对应的9个柱子高度\n",
    "LowTotalTime=[0]*CurveNum   #存储多个下降最快的时间值\n",
    "\n",
    "height=1000.0   #坡的高度为1000m\n",
    "endheight=height*0.4 #确定纵轴终点，最好是略高于0点\n",
    "width=800.0     #坡的宽度为800m\n",
    "PoleSize=2000 # 相邻柱子之间考虑1000个点\n",
    "wsize=PoleSize*(PoleNum+1)  #拟合曲线一共考虑2000*（9+1）=20000个点\n",
    "wgrid=width/wsize    #x轴（坡的宽度方向）的格点分辨率\n",
    "x_smooth=[0]*(wsize+1)   #定义20000+1个点，记录x值\n",
    "for i in range(wsize+1):\n",
    "    x_smooth[i]=i*wgrid\n",
    "    \n",
    "Pgrid=width/(PoleNum+1)   #每根柱子的格点分辨率\n",
    "x=[0]*(PoleNum+2)    #定义9+2个点，记录起点、9根柱子、终点的x值（坡的宽度方向）\n",
    "for i in range(PoleNum+2):\n",
    "    x[i]=Pgrid*i\n",
    "\n",
    "y=[0]*(PoleNum+2)    #定义9+2个点，记录起点、9根柱子、终点的y值（坡的高度方向）\n",
    "y[0]=height #确定纵轴起点\n",
    "y[PoleNum+1]=endheight #确定纵轴终点，最好是略高于0点\n",
    "\n",
    "\n",
    "def Optfunc2(pole1, pole2, pole3, pole4, pole5, pole6, pole7, pole8, pole9):\n",
    "    xval=np.zeros((1,9))  #生成二维数组\n",
    "    xval[0]=[pole1, pole2, pole3, pole4, pole5, pole6, pole7, pole8, pole9]\n",
    "    '''\n",
    "    #数据标准化，在本工作中，由于9根柱子的参数范围都很接近，不需要进行数据标准化\n",
    "    scaler = StandardScaler()  #定义标准化参数\n",
    "    xval = scaler.fit_transform(xval) #将输入表格的描述符dataframe给标准化\n",
    "    '''\n",
    "    pred = my_model.predict(xval)  #调用model.predict能力，利用描述符来预测结果\n",
    "    return -pred[0][0]\n",
    "\n",
    "\n",
    "\n",
    "\n",
    "range0 = [[1, 999], [1, 999], [1, 999], [1, 999], [1, 999], [1, 999], [1, 999], [1, 999], [1, 999]]\n",
    "print(\"统计速降曲线的柱子高度范围为：\")\n",
    "print(range0)\n",
    "# 设定贝叶斯优化函数和取值范围\n",
    "BO1 = BayesianOptimization(Optfunc2,\n",
    "                           {'pole1': (range0[0][0], range0[0][1]),\n",
    "                            'pole2': (range0[1][0], range0[1][1]),\n",
    "                            'pole3': (range0[2][0], range0[2][1]),\n",
    "                            'pole4': (range0[3][0], range0[3][1]),\n",
    "                            'pole5': (range0[4][0], range0[4][1]),\n",
    "                            'pole6': (range0[5][0], range0[5][1]),\n",
    "                            'pole7': (range0[6][0], range0[6][1]),\n",
    "                            'pole8': (range0[7][0], range0[7][1]),\n",
    "                            'pole9': (range0[8][0], range0[8][1]),\n",
    "                            })\n",
    "# 进行贝叶斯优化，设定最初随机取值的次数，然后贝叶斯优化的次数，和采集函数\n",
    "print(\"=========================================\")\n",
    "print(\"以下执行贝叶斯优化：\")\n",
    "BO1.maximize(40, 500, acq='ucb', kappa=0.3) #调用maximize函数寻找最优参数\n",
    "#init_points=40：随机产生初始化点的个数为40个，值越大，找到起步点的效果可能更好\n",
    "#n_iter=1200：进行贝叶斯优化的迭代次数，值越大，精度越高\n",
    "#acq='ucb'：采集函数模型,【取值为'ucb','pi','ei'】\n",
    "#kappa=0：ucb模型中的调节参数，越低越倾向于在当前最佳结果附近搜索（缺点：容易陷入局部最优）\n",
    "#速降曲线，因为其解析解确定是摆线公式，不存在局部最优解，因此选择kappa=0.3\n",
    "    \n",
    "# 输出结果中的最大值\n",
    "print(BO1.max)\n",
    "print(\"优化结束\")\n",
    "print(\"=========================================\")\n",
    "\n",
    "# plz为调取值所用的列表，plx，ply为优化后的柱子坐标用于样条函数拟合\n",
    "plz = ['pole1', 'pole2', 'pole3', 'pole4', 'pole5', 'pole6', 'pole7', 'pole8', 'pole9']\n",
    "ply = [0] * 11\n",
    "ply[0] = height\n",
    "ply[10] = endheight\n",
    "for i in range(PoleNum):\n",
    "    ply[i + 1] = BO1.max['params'][plz[i]]\n",
    "plx = [0] * (PoleNum+2)\n",
    "for i in range(PoleNum+2):\n",
    "    plx[i] = width/(PoleNum+1) * i\n",
    "l1 = make_interp_spline(plx, ply)\n",
    "lpoints = 2000  # 绘制优化后样条函数和摆线的细分数\n",
    "\n",
    "# x，y为样条函数的细分坐标\n",
    "x = [0] * lpoints\n",
    "y = [0.0] * lpoints\n",
    "for i in range(lpoints):\n",
    "    x[i] = (width / lpoints) * i\n",
    "y = l1(x)\n",
    "\n",
    "\n",
    "plt.plot(x, y, label='optimization') # 绘制最优曲线进行比较 \n",
    "plt.legend(['optimized'])\n",
    "plt.show()\n",
    "\n",
    "print(\"测试结束\")"
   ]
  },
  {
   "cell_type": "code",
   "execution_count": null,
   "id": "c16dd8c0",
   "metadata": {},
   "outputs": [],
   "source": []
  },
  {
   "cell_type": "code",
   "execution_count": null,
   "id": "b019a1e4",
   "metadata": {},
   "outputs": [],
   "source": []
  },
  {
   "cell_type": "code",
   "execution_count": null,
   "id": "4d0935b5",
   "metadata": {},
   "outputs": [],
   "source": []
  }
 ],
 "metadata": {
  "kernelspec": {
   "display_name": "Python 3 (ipykernel)",
   "language": "python",
   "name": "python3"
  },
  "language_info": {
   "codemirror_mode": {
    "name": "ipython",
    "version": 3
   },
   "file_extension": ".py",
   "mimetype": "text/x-python",
   "name": "python",
   "nbconvert_exporter": "python",
   "pygments_lexer": "ipython3",
   "version": "3.7.12"
  }
 },
 "nbformat": 4,
 "nbformat_minor": 5
}
